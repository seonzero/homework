{
 "cells": [
  {
   "cell_type": "code",
   "execution_count": null,
   "metadata": {},
   "outputs": [],
   "source": [
    "import pandas as pd\n",
    "import numpy as np\n",
    "import scipy.stats as stats\n",
    "import matplotlib.pyplot as plt\n",
    "import seaborn as sns\n",
    "\n",
    "# 데이터 불러오기\n",
    "file_path = \"../data/data.csv\"\n",
    "# 파일 경로 입력\n",
    "\n",
    "df = pd.read_csv(file_path)  \n",
    "# CSV 파일 읽기\n",
    "\n",
    "# 데이터 확인 (상위 5개 행 출력)\n",
    "df.head()"
   ]
  },
  {
   "cell_type": "code",
   "execution_count": null,
   "metadata": {},
   "outputs": [],
   "source": [
    "# 데이터프레임의 상위 5개 행 출력\n",
    "df.info()"
   ]
  },
  {
   "cell_type": "code",
   "execution_count": null,
   "metadata": {},
   "outputs": [],
   "source": [
    "# 특정 세 자치구(예: 강남구, 종로구, 서초구) 데이터 필터링\n",
    "df_filtered = df[df['자치구별(2)'].isin(['강남구', '종로구', '서초구'])]  \n",
    "# 원하는 자치구만 선택\n",
    "\n",
    "# 필요한 컬럼 선택 (2023년 1월~12월)\n",
    "df_filtered = df_filtered[['자치구별(2)', '2023.1', '2023.2', '2023.3', '2023.4', '2023.5', '2023.6', \n",
    "                           '2023.7', '2023.8', '2023.9', '2023.10', '2023.11', '2023.12']]\n",
    "\n",
    "df_filtered.columns = ['자치구', 'car_1', 'car_2', 'car_3', 'car_4', 'car_5', 'car_6', \n",
    "                       'car_7', 'car_8', 'car_9', 'car_10', 'car_11', 'car_12']\n",
    "\n",
    "# 데이터 타입 변환 (문자 → 숫자)\n",
    "df_filtered.iloc[:, 1:] = df_filtered.iloc[:, 1:].apply(pd.to_numeric, errors='coerce')  \n",
    "# 숫자로 변환 (문자열이 있으면 NaN 처리)\n",
    "\n",
    "# 데이터 변형: 자치구 데이터를 개별적인 관측값으로 변환\n",
    "data_list = []\n",
    "for idx, row in df_filtered.iterrows():\n",
    "    for col in df_filtered.columns[1:]:\n",
    "        data_list.append([row['자치구'], row[col]])\n",
    "\n",
    "df_long = pd.DataFrame(data_list, columns=['자치구', '승용차 이용 비율'])\n"
   ]
  },
  {
   "cell_type": "code",
   "execution_count": null,
   "metadata": {},
   "outputs": [],
   "source": [
    "df_long"
   ]
  },
  {
   "cell_type": "code",
   "execution_count": null,
   "metadata": {},
   "outputs": [],
   "source": [
    "plt.figure(figsize=(12, 6))  \n",
    "# 그래프 크기 설정\n",
    "\n",
    "sns.histplot(data=df_long, x='승용차 이용 비율', hue='자치구', kde=True, bins=10, element='step', common_norm=False)  \n",
    "# 히스토그램 및 KDE 그래프\n",
    "\n",
    "plt.title('Distribution of passenger car use rates in Gangnam-gu, Jongno-gu, and Seocho-gu')  \n",
    "plt.xlabel('Passenger car usage rate (%)')  \n",
    "plt.ylabel('Frequency')  \n",
    "plt.legend()  \n",
    "plt.show()"
   ]
  },
  {
   "cell_type": "code",
   "execution_count": null,
   "metadata": {},
   "outputs": [],
   "source": [
    "# 정규성 검정 (Shapiro-Wilk test)\n",
    "for region in ['강남구', '종로구', '서초구']:  \n",
    "    # 검정할 자치구 리스트 입력\n",
    "    stat, p = stats.______(df_long[df_long['자치구'] == region]['승용차 이용 비율'].dropna())  \n",
    "    # 정규성 검정 수행\n",
    "    print(f\"Shapiro-Wilk test ({region}): p-value = {p:.4f}\")\n",
    "    if p >= 0.05:\n",
    "        print(f\" → {region}의 데이터는 정규성을 만족합니다.\")\n",
    "    else:\n",
    "        print(f\" → {region}의 데이터는 정규성을 만족하지 않습니다.\")"
   ]
  }
 ],
 "metadata": {
  "kernelspec": {
   "display_name": "Python 3",
   "language": "python",
   "name": "python3"
  },
  "language_info": {
   "codemirror_mode": {
    "name": "ipython",
    "version": 3
   },
   "file_extension": ".py",
   "mimetype": "text/x-python",
   "name": "python",
   "nbconvert_exporter": "python",
   "pygments_lexer": "ipython3",
   "version": "3.9.13"
  }
 },
 "nbformat": 4,
 "nbformat_minor": 2
}
