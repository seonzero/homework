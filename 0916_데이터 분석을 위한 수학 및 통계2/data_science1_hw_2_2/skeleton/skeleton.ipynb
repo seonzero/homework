{
 "cells": [
  {
   "cell_type": "code",
   "execution_count": null,
   "metadata": {},
   "outputs": [],
   "source": [
    "import pandas as pd\n",
    "import numpy as np\n",
    "import matplotlib.pyplot as plt\n",
    "import seaborn as sns\n",
    "\n",
    "df = pd.read_csv('../data/data.csv')\n",
    "\n",
    "# \"normal_outliers\" 열만 추출해 Series로 만듦\n",
    "normal_outliers = _______________\n",
    "# \"pareto_outliers\" 열만 추출해 Series로 만듦 (pareto 분포는 긴꼬리 분포의 일종)\n",
    "pareto_outliers = _______________\n",
    "\n",
    "\n",
    "# 시각화\n",
    "plt.figure(figsize=(8, 5))\n",
    "sns.histplot(_____, bins=30, kde=True, color='blue', label='Normal with Outliers')\n",
    "sns.histplot(_____, bins=30, kde=True, color='red', label='Pareto with Outliers', alpha=0.6)\n",
    "plt.title('Normal distribution with outliers vs Pareto distribution')\n",
    "plt.xlabel('Value')\n",
    "plt.ylabel('Frequency')\n",
    "plt.legend()\n",
    "plt.grid(True)\n",
    "plt.show()"
   ]
  }
 ],
 "metadata": {
  "kernelspec": {
   "display_name": "Python 3",
   "language": "python",
   "name": "python3"
  },
  "language_info": {
   "codemirror_mode": {
    "name": "ipython",
    "version": 3
   },
   "file_extension": ".py",
   "mimetype": "text/x-python",
   "name": "python",
   "nbconvert_exporter": "python",
   "pygments_lexer": "ipython3",
   "version": "3.12.7"
  }
 },
 "nbformat": 4,
 "nbformat_minor": 2
}
