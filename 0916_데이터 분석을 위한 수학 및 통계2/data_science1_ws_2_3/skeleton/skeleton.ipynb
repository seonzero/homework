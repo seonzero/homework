{
 "cells": [
  {
   "cell_type": "code",
   "execution_count": null,
   "metadata": {},
   "outputs": [],
   "source": [
    "import pandas as pd\n",
    "import numpy as np\n",
    "import scipy.stats as stats\n",
    "import matplotlib.pyplot as plt\n",
    "import seaborn as sns\n",
    "\n",
    "df = pd.read_csv('../data/data.csv')\n",
    "\n",
    "commute_before = df['commute_before']\n",
    "commute_after = df['commute_after']\n",
    "\n",
    "# 기초 통계량 확인\n",
    "print(f\"도입 전 평균 통근 시간: {np.mean(commute_before):.2f}분\")\n",
    "print(f\"도입 후 평균 통근 시간: {np.mean(commute_after):.2f}분\")"
   ]
  },
  {
   "cell_type": "code",
   "execution_count": null,
   "metadata": {},
   "outputs": [],
   "source": [
    "import numpy as np\n",
    "import scipy.stats as stats\n",
    "import matplotlib.pyplot as plt\n",
    "import seaborn as sns\n",
    "\n",
    "# 데이터 생성: 동일한 시민들의 교통 시스템 도입 전후 통근 시간 (단위: 분)\n",
    "np.random.seed(42)\n",
    "\n",
    "commute_before = np.random.normal(loc=______, scale=______, size=______)  \n",
    "# 도입 전 평균, 표준편차, 표본 크기를 입력\n",
    "\n",
    "commute_after = np.random.normal(loc=______, scale=______, size=______)  \n",
    "# 도입 후 평균, 표준편차, 표본 크기를 입력\n",
    "\n",
    "# 기초 통계량 확인\n",
    "print(f\"도입 전 평균 통근 시간: {np.______(commute_before):.2f}분\")  \n",
    "# 평균 계산\n",
    "\n",
    "print(f\"도입 후 평균 통근 시간: {np.______(commute_after):.2f}분\")  \n",
    "# 평균 계산\n"
   ]
  },
  {
   "cell_type": "code",
   "execution_count": null,
   "metadata": {},
   "outputs": [],
   "source": [
    "plt.figure(figsize=(12, 5))\n",
    "# 그래프 크기 설정 (가로, 세로)\n",
    "\n",
    "# KDE 그래프: 통근 시간 분포 비교\n",
    "plt.subplot(______, ______, ______)  \n",
    "# 서브플롯 설정 (행 개수, 열 개수, 현재 위치)\n",
    "\n",
    "sns.histplot(commute_before, kde=______, color='blue', label='before', alpha=0.6)  \n",
    "# KDE 포함 여부 설정\n",
    "\n",
    "sns.histplot(commute_after, kde=______, color='orange', label='after', alpha=0.6)  \n",
    "\n",
    "plt.axvline(np.______(commute_before), color='blue', linestyle='dashed')  \n",
    "# 도입 전 평균선 추가\n",
    "\n",
    "plt.axvline(np.______(commute_after), color='orange', linestyle='dashed')  \n",
    "# 도입 후 평균선 추가\n",
    "\n",
    "plt.title('Commute time of Distribution')  \n",
    "plt.xlabel('Commute Time (Minute)')  \n",
    "plt.legend()\n",
    "\n",
    "# 박스플롯: 그룹 간 비교\n",
    "plt.subplot(______, ______, ______)  \n",
    "\n",
    "sns.boxplot(data=[______, ______], palette=['blue', 'orange'])  \n",
    "# 데이터 리스트를 입력하여 박스플롯 생성\n",
    "\n",
    "plt.xticks([0, 1], ['before', 'after'])  \n",
    "plt.title('Commute Time Boxplot')  \n",
    "plt.ylabel('Commute Time (Minute)')\n",
    "\n",
    "plt.show()\n"
   ]
  },
  {
   "cell_type": "code",
   "execution_count": null,
   "metadata": {},
   "outputs": [],
   "source": [
    "shapiro_before = stats.______(commute_before)  \n",
    "# 정규성 검정 함수\n",
    "\n",
    "shapiro_after = stats.______(commute_after)  \n",
    "\n",
    "print(f\"Shapiro-Wilk 검정 (도입 전) p-value: {shapiro_before.pvalue:.4f}\")  \n",
    "print(f\"Shapiro-Wilk 검정 (도입 후) p-value: {shapiro_after.pvalue:.4f}\")  "
   ]
  },
  {
   "cell_type": "code",
   "execution_count": null,
   "metadata": {},
   "outputs": [],
   "source": [
    "# 대응표본 t-검정 수행\n",
    "paired_t_stat, p_value = stats.______(commute_before, commute_after)  \n",
    "# 대응표본 t-검정 함수 사용\n",
    "\n",
    "print(f\"대응표본 t-검정 t-통계량: {paired_t_stat:.4f}\")  \n",
    "print(f\"p-value: {p_value:.4f}\")  "
   ]
  }
 ],
 "metadata": {
  "kernelspec": {
   "display_name": "Python 3",
   "language": "python",
   "name": "python3"
  },
  "language_info": {
   "codemirror_mode": {
    "name": "ipython",
    "version": 3
   },
   "file_extension": ".py",
   "mimetype": "text/x-python",
   "name": "python",
   "nbconvert_exporter": "python",
   "pygments_lexer": "ipython3",
   "version": "3.12.7"
  }
 },
 "nbformat": 4,
 "nbformat_minor": 2
}
