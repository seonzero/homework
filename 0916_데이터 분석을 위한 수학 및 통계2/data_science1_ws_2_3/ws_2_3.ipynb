{
 "cells": [
  {
   "cell_type": "code",
   "execution_count": null,
   "id": "d66a92ca",
   "metadata": {},
   "outputs": [
    {
     "name": "stdout",
     "output_type": "stream",
     "text": [
      "도입 전 평균 통근 시간: 37.06분\n",
      "도입 후 평균 통근 시간: 33.39분\n"
     ]
    }
   ],
   "source": [
    "import pandas as pd\n",
    "import numpy as np\n",
    "import scipy.stats as stats\n",
    "import matplotlib.pyplot as plt\n",
    "import seaborn as sns\n",
    "\n",
    "df = pd.read_csv('data/data.csv')\n",
    "\n",
    "commute_before = df['commute_before']\n",
    "commute_after = df['commute_after']\n",
    "\n",
    "# 기초 통계량 확인\n",
    "print(f\"도입 전 평균 통근 시간: {np.mean(commute_before):.2f}분\")\n",
    "print(f\"도입 후 평균 통근 시간: {np.mean(commute_after):.2f}분\")"
   ]
  },
  {
   "cell_type": "code",
   "execution_count": 28,
   "id": "2b098723",
   "metadata": {},
   "outputs": [
    {
     "data": {
      "text/html": [
       "<div>\n",
       "<style scoped>\n",
       "    .dataframe tbody tr th:only-of-type {\n",
       "        vertical-align: middle;\n",
       "    }\n",
       "\n",
       "    .dataframe tbody tr th {\n",
       "        vertical-align: top;\n",
       "    }\n",
       "\n",
       "    .dataframe thead th {\n",
       "        text-align: right;\n",
       "    }\n",
       "</style>\n",
       "<table border=\"1\" class=\"dataframe\">\n",
       "  <thead>\n",
       "    <tr style=\"text-align: right;\">\n",
       "      <th></th>\n",
       "      <th>commute_before</th>\n",
       "      <th>commute_after</th>\n",
       "    </tr>\n",
       "  </thead>\n",
       "  <tbody>\n",
       "    <tr>\n",
       "      <th>0</th>\n",
       "      <td>40.483571</td>\n",
       "      <td>30.991467</td>\n",
       "    </tr>\n",
       "    <tr>\n",
       "      <th>1</th>\n",
       "      <td>37.308678</td>\n",
       "      <td>43.261391</td>\n",
       "    </tr>\n",
       "    <tr>\n",
       "      <th>2</th>\n",
       "      <td>41.238443</td>\n",
       "      <td>33.932514</td>\n",
       "    </tr>\n",
       "    <tr>\n",
       "      <th>3</th>\n",
       "      <td>45.615149</td>\n",
       "      <td>28.711445</td>\n",
       "    </tr>\n",
       "    <tr>\n",
       "      <th>4</th>\n",
       "      <td>36.829233</td>\n",
       "      <td>38.112725</td>\n",
       "    </tr>\n",
       "    <tr>\n",
       "      <th>5</th>\n",
       "      <td>36.829315</td>\n",
       "      <td>27.895782</td>\n",
       "    </tr>\n",
       "    <tr>\n",
       "      <th>6</th>\n",
       "      <td>45.896064</td>\n",
       "      <td>35.044318</td>\n",
       "    </tr>\n",
       "    <tr>\n",
       "      <th>7</th>\n",
       "      <td>41.837174</td>\n",
       "      <td>24.201649</td>\n",
       "    </tr>\n",
       "    <tr>\n",
       "      <th>8</th>\n",
       "      <td>35.652628</td>\n",
       "      <td>27.359070</td>\n",
       "    </tr>\n",
       "    <tr>\n",
       "      <th>9</th>\n",
       "      <td>40.712800</td>\n",
       "      <td>34.984306</td>\n",
       "    </tr>\n",
       "    <tr>\n",
       "      <th>10</th>\n",
       "      <td>35.682912</td>\n",
       "      <td>37.692333</td>\n",
       "    </tr>\n",
       "    <tr>\n",
       "      <th>11</th>\n",
       "      <td>35.671351</td>\n",
       "      <td>34.856841</td>\n",
       "    </tr>\n",
       "    <tr>\n",
       "      <th>12</th>\n",
       "      <td>39.209811</td>\n",
       "      <td>33.421759</td>\n",
       "    </tr>\n",
       "    <tr>\n",
       "      <th>13</th>\n",
       "      <td>28.433599</td>\n",
       "      <td>32.494482</td>\n",
       "    </tr>\n",
       "    <tr>\n",
       "      <th>14</th>\n",
       "      <td>29.375411</td>\n",
       "      <td>26.607390</td>\n",
       "    </tr>\n",
       "    <tr>\n",
       "      <th>15</th>\n",
       "      <td>35.188562</td>\n",
       "      <td>30.400779</td>\n",
       "    </tr>\n",
       "    <tr>\n",
       "      <th>16</th>\n",
       "      <td>32.935844</td>\n",
       "      <td>31.696806</td>\n",
       "    </tr>\n",
       "    <tr>\n",
       "      <th>17</th>\n",
       "      <td>39.571237</td>\n",
       "      <td>39.285611</td>\n",
       "    </tr>\n",
       "    <tr>\n",
       "      <th>18</th>\n",
       "      <td>33.459880</td>\n",
       "      <td>35.718091</td>\n",
       "    </tr>\n",
       "    <tr>\n",
       "      <th>19</th>\n",
       "      <td>30.938481</td>\n",
       "      <td>25.184799</td>\n",
       "    </tr>\n",
       "    <tr>\n",
       "      <th>20</th>\n",
       "      <td>45.328244</td>\n",
       "      <td>35.620420</td>\n",
       "    </tr>\n",
       "    <tr>\n",
       "      <th>21</th>\n",
       "      <td>36.871118</td>\n",
       "      <td>32.074589</td>\n",
       "    </tr>\n",
       "    <tr>\n",
       "      <th>22</th>\n",
       "      <td>38.337641</td>\n",
       "      <td>30.615390</td>\n",
       "    </tr>\n",
       "    <tr>\n",
       "      <th>23</th>\n",
       "      <td>30.876259</td>\n",
       "      <td>37.058381</td>\n",
       "    </tr>\n",
       "    <tr>\n",
       "      <th>24</th>\n",
       "      <td>35.278086</td>\n",
       "      <td>39.154998</td>\n",
       "    </tr>\n",
       "    <tr>\n",
       "      <th>25</th>\n",
       "      <td>38.554613</td>\n",
       "      <td>38.656401</td>\n",
       "    </tr>\n",
       "    <tr>\n",
       "      <th>26</th>\n",
       "      <td>32.245032</td>\n",
       "      <td>29.803912</td>\n",
       "    </tr>\n",
       "    <tr>\n",
       "      <th>27</th>\n",
       "      <td>39.878490</td>\n",
       "      <td>32.453938</td>\n",
       "    </tr>\n",
       "    <tr>\n",
       "      <th>28</th>\n",
       "      <td>34.996807</td>\n",
       "      <td>35.656317</td>\n",
       "    </tr>\n",
       "    <tr>\n",
       "      <th>29</th>\n",
       "      <td>36.541531</td>\n",
       "      <td>38.877726</td>\n",
       "    </tr>\n",
       "  </tbody>\n",
       "</table>\n",
       "</div>"
      ],
      "text/plain": [
       "    commute_before  commute_after\n",
       "0        40.483571      30.991467\n",
       "1        37.308678      43.261391\n",
       "2        41.238443      33.932514\n",
       "3        45.615149      28.711445\n",
       "4        36.829233      38.112725\n",
       "5        36.829315      27.895782\n",
       "6        45.896064      35.044318\n",
       "7        41.837174      24.201649\n",
       "8        35.652628      27.359070\n",
       "9        40.712800      34.984306\n",
       "10       35.682912      37.692333\n",
       "11       35.671351      34.856841\n",
       "12       39.209811      33.421759\n",
       "13       28.433599      32.494482\n",
       "14       29.375411      26.607390\n",
       "15       35.188562      30.400779\n",
       "16       32.935844      31.696806\n",
       "17       39.571237      39.285611\n",
       "18       33.459880      35.718091\n",
       "19       30.938481      25.184799\n",
       "20       45.328244      35.620420\n",
       "21       36.871118      32.074589\n",
       "22       38.337641      30.615390\n",
       "23       30.876259      37.058381\n",
       "24       35.278086      39.154998\n",
       "25       38.554613      38.656401\n",
       "26       32.245032      29.803912\n",
       "27       39.878490      32.453938\n",
       "28       34.996807      35.656317\n",
       "29       36.541531      38.877726"
      ]
     },
     "execution_count": 28,
     "metadata": {},
     "output_type": "execute_result"
    }
   ],
   "source": [
    "df"
   ]
  },
  {
   "cell_type": "code",
   "execution_count": 18,
   "id": "5dcfa401",
   "metadata": {},
   "outputs": [
    {
     "name": "stdout",
     "output_type": "stream",
     "text": [
      "commute before\n",
      "count    30.000000\n",
      "mean     37.059266\n",
      "std       4.500032\n",
      "min      28.433599\n",
      "25%      35.044746\n",
      "50%      36.829274\n",
      "75%      39.801677\n",
      "max      45.896064\n",
      "Name: commute_before, dtype: float64\n",
      "\n",
      "commute after\n",
      "count    30.000000\n",
      "mean     33.394188\n",
      "std       4.655511\n",
      "min      24.201649\n",
      "25%      30.454432\n",
      "50%      33.677136\n",
      "75%      36.723309\n",
      "max      43.261391\n",
      "Name: commute_after, dtype: float64\n"
     ]
    }
   ],
   "source": [
    "print('commute before')\n",
    "print(df['commute_before'].describe())\n",
    "print()\n",
    "print('commute after')\n",
    "print(df['commute_after'].describe())"
   ]
  },
  {
   "cell_type": "markdown",
   "id": "ac9ea3a5",
   "metadata": {},
   "source": [
    "- scale: 표준편차\n",
    "- size:샘플 개수"
   ]
  },
  {
   "cell_type": "code",
   "execution_count": 19,
   "id": "1d26415e",
   "metadata": {},
   "outputs": [
    {
     "name": "stdout",
     "output_type": "stream",
     "text": [
      "도입 전 평균 통근 시간: 36.21분\n",
      "도입 후 평균 통근 시간: 32.83분\n"
     ]
    }
   ],
   "source": [
    "import numpy as np\n",
    "import scipy.stats as stats\n",
    "import matplotlib.pyplot as plt\n",
    "import seaborn as sns\n",
    "\n",
    "#데이터 생성\n",
    "np.random.seed(42)\n",
    "\n",
    "commute_before = np.random.normal(loc = 37.06, scale = 4.50, size=30)\n",
    "commute_after = np.random.normal(loc=33.39, scale = 4.65, size=30)\n",
    "\n",
    "# 기초 통계량 확인\n",
    "print(f\"도입 전 평균 통근 시간: {np.mean(commute_before):.2f}분\")  \n",
    "# 평균 계산\n",
    "\n",
    "print(f\"도입 후 평균 통근 시간: {np.mean(commute_after):.2f}분\")  \n",
    "# 평균 계산"
   ]
  },
  {
   "cell_type": "code",
   "execution_count": 20,
   "id": "71946191",
   "metadata": {},
   "outputs": [
    {
     "data": {
      "image/png": "[encoded data removed]",
      "text/plain": [
       "<Figure size 1200x500 with 2 Axes>"
      ]
     },
     "metadata": {},
     "output_type": "display_data"
    }
   ],
   "source": [
    "plt.figure(figsize=(12, 5))\n",
    "## 첫번재 서브플롯\n",
    "plt.subplot(1,2,1)\n",
    "sns.histplot(commute_before, kde=True, color='blue', label='before', alpha=0.6)  \n",
    "# KDE 포함 여부 설정\n",
    "\n",
    "sns.histplot(commute_after, kde=True, color='orange', label='after', alpha=0.6)  \n",
    "\n",
    "plt.axvline(np.mean(commute_before), color='blue', linestyle='dashed')\n",
    "\n",
    "plt.axvline(np.mean(commute_after), color='blue', linestyle='dashed')\n",
    "\n",
    "plt.title('Commute time of Distribution')\n",
    "plt.xlabel('Commute Time (Minute)')\n",
    "plt.legend()\n",
    "\n",
    "\n",
    "## 두번째 서브플롯\n",
    "plt.subplot(1,2,2)\n",
    "sns.boxplot( data= [commute_before, commute_after], palette=['blue', 'orange'] )\n",
    "\n",
    "plt.xticks( [0,1], ['before', 'after'] )\n",
    "plt.title('Commute Time Boxplot')\n",
    "plt.ylabel('Commute Time (Minute)')\n",
    "\n",
    "plt.show()"
   ]
  },
  {
   "cell_type": "code",
   "execution_count": null,
   "id": "b50ee5a6",
   "metadata": {},
   "outputs": [
    {
     "name": "stdout",
     "output_type": "stream",
     "text": [
      "shapiro-wilk 검정 (도입 전) p-value: 0.6868\n",
      "shapiro-wilk 검정 (도입 후) p-value: 0.9130\n"
     ]
    }
   ],
   "source": [
    "## 샤피로윌크 검정 수행 - 정규성 확인 \n",
    "shapiro_before = stats.shapiro(commute_before)\n",
    "\n",
    "shapiro_after = stats.shapiro(commute_after)\n",
    "\n",
    "print(f'shapiro-wilk 검정 (도입 전) p-value: {shapiro_before.pvalue:.4f}')\n",
    "print(f'shapiro-wilk 검정 (도입 후) p-value: {shapiro_after.pvalue:.4f}')"
   ]
  },
  {
   "cell_type": "code",
   "execution_count": 27,
   "id": "aa7cfba9",
   "metadata": {},
   "outputs": [
    {
     "name": "stdout",
     "output_type": "stream",
     "text": [
      "대응표본 t-검정 t-통계량: 3.2956\n",
      "p-value: 0.0026\n"
     ]
    }
   ],
   "source": [
    "## t-검정 수행 - 통계적 유효성 파악\n",
    "## 대응표본 t-검정 함수 사용\n",
    "paired_t_stat, p_value = stats.ttest_rel(commute_before, commute_after)\n",
    "\n",
    "print(f\"대응표본 t-검정 t-통계량: {paired_t_stat:.4f}\")\n",
    "print(f'p-value: {p_value:.4f}')"
   ]
  }
 ],
 "metadata": {
  "kernelspec": {
   "display_name": "Python 3",
   "language": "python",
   "name": "python3"
  },
  "language_info": {
   "codemirror_mode": {
    "name": "ipython",
    "version": 3
   },
   "file_extension": ".py",
   "mimetype": "text/x-python",
   "name": "python",
   "nbconvert_exporter": "python",
   "pygments_lexer": "ipython3",
   "version": "3.11.9"
  }
 },
 "nbformat": 4,
 "nbformat_minor": 5
}
