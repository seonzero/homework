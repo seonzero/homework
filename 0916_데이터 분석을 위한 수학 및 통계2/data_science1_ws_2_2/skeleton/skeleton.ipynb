{
 "cells": [
  {
   "cell_type": "code",
   "execution_count": null,
   "metadata": {},
   "outputs": [],
   "source": [
    "import pandas as pd\n",
    "import numpy as np\n",
    "import scipy.stats as stats\n",
    "import matplotlib.pyplot as plt\n",
    "import seaborn as sns\n",
    "\n",
    "df = pd.read_csv('../data/data.csv')\n",
    "\n",
    "# \"Commute_Time\" 열만 추출해 Series로 만듦\n",
    "commute_before = df['commute_before']\n",
    "commute_after = df['commute_after']\n",
    "\n",
    "\n",
    "# 기초 통계량 확인\n",
    "print(f\"도입 전 평균 통근 시간: {np.mean(commute_before):.2f}분\")\n",
    "print(f\"도입 후 평균 통근 시간: {np.mean(commute_after):.2f}분\")"
   ]
  },
  {
   "cell_type": "code",
   "execution_count": null,
   "metadata": {},
   "outputs": [],
   "source": [
    "plt.figure(figsize=(15, 6))\n",
    "# 그래프 크기 설정\n",
    "\n",
    "# KDE 그래프: 통근 시간 분포 비교\n",
    "plt.subplot(1, 2, 1)\n",
    "# 서브플롯 설정 (행 개수, 열 개수, 현재 위치)\n",
    "\n",
    "sns.histplot(commute_before, kde=______, color='blue', label='Before', alpha=0.6)  \n",
    "# KDE 포함 여부 설정\n",
    "\n",
    "sns.histplot(commute_after, kde=______, color='orange', label='After', alpha=0.6)  \n",
    "\n",
    "plt.axvline(np.______(commute_before), color='blue', linestyle='dashed')  \n",
    "# 도입 전 평균선 추가\n",
    "\n",
    "plt.axvline(np.______(commute_after), color='orange', linestyle='dashed')  \n",
    "# 도입 후 평균선 추가\n",
    "\n",
    "plt.title('Commute time distribution')  \n",
    "plt.xlabel('Commute time (minutes)')  \n",
    "plt.legend()\n",
    "\n",
    "# 박스플롯: 그룹 간 비교\n",
    "plt.subplot(1, 2, 2)\n",
    "\n",
    "sns.boxplot(data=[______, ______], palette=['blue', 'orange'])  \n",
    "# 데이터 리스트를 입력하여 박스플롯 생성\n",
    "\n",
    "plt.xticks([0, 1], ['Before', 'After'])  \n",
    "plt.title('Commute time boxplot')  \n",
    "plt.ylabel('Commute time (minutes)')\n",
    "\n",
    "plt.show()"
   ]
  },
  {
   "cell_type": "code",
   "execution_count": null,
   "metadata": {},
   "outputs": [],
   "source": [
    "shapiro_before = stats.______(commute_before)  \n",
    "# 정규성 검정 함수\n",
    "\n",
    "shapiro_after = stats.______(commute_after)  \n",
    "\n",
    "print(f\"Shapiro-Wilk 검정 (도입 전) p-value: {shapiro_before.pvalue:.4f}\")  \n",
    "print(f\"Shapiro-Wilk 검정 (도입 후) p-value: {shapiro_after.pvalue:.4f}\")  "
   ]
  },
  {
   "cell_type": "code",
   "execution_count": null,
   "metadata": {},
   "outputs": [],
   "source": [
    "t_stat, p_value = stats.______(commute_before, commute_after, equal_var=______)  \n",
    "# 독립 표본 t-검정 수행, equal_var 여부 입력\n",
    "\n",
    "print(f\"t-통계량: {t_stat:.4f}\")  \n",
    "print(f\"p-value: {p_value:.4f}\")  "
   ]
  }
 ],
 "metadata": {
  "kernelspec": {
   "display_name": "Python 3",
   "language": "python",
   "name": "python3"
  },
  "language_info": {
   "codemirror_mode": {
    "name": "ipython",
    "version": 3
   },
   "file_extension": ".py",
   "mimetype": "text/x-python",
   "name": "python",
   "nbconvert_exporter": "python",
   "pygments_lexer": "ipython3",
   "version": "3.12.7"
  }
 },
 "nbformat": 4,
 "nbformat_minor": 2
}
