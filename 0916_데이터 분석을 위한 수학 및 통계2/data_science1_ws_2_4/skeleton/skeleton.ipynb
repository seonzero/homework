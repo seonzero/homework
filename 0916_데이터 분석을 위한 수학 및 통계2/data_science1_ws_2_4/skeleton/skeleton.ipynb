{
 "cells": [
  {
   "cell_type": "code",
   "execution_count": null,
   "metadata": {},
   "outputs": [],
   "source": [
    "import pandas as pd\n",
    "import numpy as np\n",
    "import matplotlib.pyplot as plt\n",
    "import seaborn as sns\n",
    "\n",
    "# 포아송분포 데이터 불러오기\n",
    "df = pd.read_csv('../data/data.csv')\n",
    "\n",
    "poisson_samples = df['poisson_samples']\n"
   ]
  },
  {
   "cell_type": "code",
   "execution_count": null,
   "metadata": {},
   "outputs": [],
   "source": [
    "plt.figure(figsize=(8, 5))\n",
    "sns.histplot(__, bins=30, kde=True, edgecolor='black')  # [빈칸] 포아송분포 히스토그램 시각화 코드 작성\n",
    "plt.title('Data generated with Poisson distribution')\n",
    "plt.xlabel('Number of vehicles arriving within 1 hour')\n",
    "plt.ylabel('Frequency')\n",
    "plt.grid(True)\n",
    "plt.show()\n"
   ]
  },
  {
   "cell_type": "code",
   "execution_count": null,
   "metadata": {},
   "outputs": [],
   "source": [
    "# 정규분포 근사를 위한 평균과 표준편차 계산\n",
    "lam = 20\n",
    "num_samples = 1000\n",
    "\n",
    "mu = __  # 기대값(mean) 계산 코드 작성\n",
    "sigma = np.sqrt(__)  # 표준편차(std) 계산 코드 작성\n",
    "\n",
    "# 정규분포 생성\n",
    "normal_samples = np.random.normal(__, __, __)  # 정규분포 샘플 생성 코드 작성\n",
    "\n",
    "# 포아송분포와 정규분포 비교\n",
    "plt.figure(figsize=(8, 5))\n",
    "sns.histplot(__, bins=30, kde=True, color='blue', label='Poisson')  # [빈칸] 포아송분포 시각화 코드 작성\n",
    "sns.histplot(__, bins=30, kde=True, color='red', label='Normal', alpha=0.6)  # [빈칸] 정규분포 시각화 코드 작성\n",
    "plt.title('Comparison of Poisson distribution and normal distribution')\n",
    "plt.xlabel('Number of vehicles arriving within 1 hour')\n",
    "plt.ylabel('Frequency')\n",
    "plt.legend()\n",
    "plt.grid(True)\n",
    "plt.show()"
   ]
  }
 ],
 "metadata": {
  "kernelspec": {
   "display_name": "Python 3",
   "language": "python",
   "name": "python3"
  },
  "language_info": {
   "codemirror_mode": {
    "name": "ipython",
    "version": 3
   },
   "file_extension": ".py",
   "mimetype": "text/x-python",
   "name": "python",
   "nbconvert_exporter": "python",
   "pygments_lexer": "ipython3",
   "version": "3.12.7"
  }
 },
 "nbformat": 4,
 "nbformat_minor": 2
}
