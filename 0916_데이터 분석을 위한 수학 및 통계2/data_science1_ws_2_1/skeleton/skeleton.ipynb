{
 "cells": [
  {
   "cell_type": "code",
   "execution_count": null,
   "metadata": {},
   "outputs": [],
   "source": [
    "import pandas as pd\n",
    "import numpy as np\n",
    "import scipy.stats as stats\n",
    "import matplotlib.pyplot as plt\n",
    "import seaborn as sns"
   ]
  },
  {
   "cell_type": "code",
   "execution_count": null,
   "metadata": {},
   "outputs": [],
   "source": [
    "df = pd.read_csv('../data/data.csv')\n",
    "\n",
    "# \"Commute_Time\" 열만 추출해 Series로 만듦\n",
    "commute_times = df['Commute_Time']\n",
    "\n",
    "# 기초 통계량 확인\n",
    "mean_commute = np.mean(commute_times) # 표본 평균\n",
    "std_commute = np.std(commute_times, ddof=1) # 표본 표준편차\n",
    "\n",
    "print(f\"표본 평균 통근 시간: {mean_commute:.2f}분\")\n",
    "print(f\"표본 표준편차 : {std_commute:.2f}분\")"
   ]
  },
  {
   "cell_type": "code",
   "execution_count": null,
   "metadata": {},
   "outputs": [],
   "source": [
    "plt.figure(figsize=(12, 5))\n",
    "# 그래프 크기 설정 (가로, 세로)\n",
    "\n",
    "plt.subplot(1, 2, 1)\n",
    "# 서브플롯 설정 (행 개수, 열 개수, 현재 위치)\n",
    "\n",
    "sns.histplot(commute_times, kde=______, color='skyblue')  \n",
    "# 히스토그램과 커널 밀도 추정(KDE)을 함께 표시\n",
    "\n",
    "plt.axvline(x=______, color='red', linestyle='dashed', label='Current average commute (35 minutes)')\n",
    "# 특정 값을 기준으로 수직선 추가 (예: 기존 평균 통근 시간)\n",
    "\n",
    "plt.title('Citizen Commute Time Distribution')  \n",
    "# 그래프 제목 설정\n",
    "\n",
    "plt.xlabel('Commute time (minutes)')  \n",
    "# X축 라벨 설정\n",
    "\n",
    "plt.legend()  \n",
    "# 범례 표시\n",
    "\n",
    "plt.show()  \n",
    "# 그래프 출력"
   ]
  },
  {
   "cell_type": "code",
   "execution_count": null,
   "metadata": {},
   "outputs": [],
   "source": [
    "# 데이터 정규성 검정을 위한 Shapiro-Wilk 검정 수행\n",
    "stat, p = stats.______(commute_times)  \n",
    "# commute_times 데이터의 정규성을 검정하는 함수\n",
    "\n",
    "print(f\"Shapiro-Wilk 검정 p-value : {p:.4}\")\n",
    "# p-value가 0.05보다 작으면 정규성을 따르지 않는다고 판단"
   ]
  },
  {
   "cell_type": "code",
   "execution_count": null,
   "metadata": {},
   "outputs": [],
   "source": [
    "# 기존 평균 통근 시간(35분)과 비교하여 t-검정 수행\n",
    "t_stat, p_value = stats.ttest_1samp(commute_times, popmean=______)  \n",
    "# 단일 표본 t-검정 수행 (popmean에 기존 평균 입력)\n",
    "\n",
    "print(f\"t-통계량: {t_stat:.4f}\")\n",
    "print(f\"p-value: {p_value:.4f}\")\n",
    "# p-value가 0.05보다 작으면 기존 평균과 통계적으로 유의미한 차이가 있다고 판단"
   ]
  }
 ],
 "metadata": {
  "kernelspec": {
   "display_name": "Python 3",
   "language": "python",
   "name": "python3"
  },
  "language_info": {
   "codemirror_mode": {
    "name": "ipython",
    "version": 3
   },
   "file_extension": ".py",
   "mimetype": "text/x-python",
   "name": "python",
   "nbconvert_exporter": "python",
   "pygments_lexer": "ipython3",
   "version": "3.12.7"
  }
 },
 "nbformat": 4,
 "nbformat_minor": 2
}
