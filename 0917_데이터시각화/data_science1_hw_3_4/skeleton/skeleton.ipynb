{
 "cells": [
  {
   "cell_type": "code",
   "execution_count": null,
   "id": "d19d16a0",
   "metadata": {},
   "outputs": [],
   "source": [
    "import pandas as pd\n",
    "import matplotlib.pyplot as plt\n",
    "import seaborn as sns\n",
    "plt.rcParams['font.family'] = 'Malgun Gothic'"
   ]
  },
  {
   "cell_type": "code",
   "execution_count": null,
   "id": "7c1b2fb7",
   "metadata": {},
   "outputs": [],
   "source": [
    "# 데이터 불러오기\n",
    "file_path = '../data/statistical_data.csv'\n",
    "df = pd.read_csv(_____)"
   ]
  },
  {
   "cell_type": "code",
   "execution_count": null,
   "id": "1c75d288",
   "metadata": {},
   "outputs": [],
   "source": [
    "# 데이터 확인\n",
    "print(df.____())  # 상위 5개 행 출력\n",
    "print(df.____())  # 데이터 타입 및 결측치 확인\n",
    "print(df.____())  # 기초 통계 확인"
   ]
  },
  {
   "cell_type": "code",
   "execution_count": null,
   "id": "2e12cf2d",
   "metadata": {},
   "outputs": [],
   "source": [
    "# 1. 변수 간 관계를 산점도로 시각화 ###\n",
    "plt.____(figsize=(8, 6))\n",
    "sns.scatterplot(x=____, y=____, hue=df['Group'], palette=\"deep\", alpha=0.7)\n",
    "plt.____(\"변수1과 변수2 간 관계 (산점도)\")\n",
    "plt.xlabel(\"변수1\")\n",
    "plt.ylabel(\"변수2\")\n",
    "plt.legend(title=\"Group\")\n",
    "plt.____()\n",
    "\n",
    "# 해석:\n",
    "# - 변수1과 변수2 간의 관계를 확인\n",
    "# - 그룹별로 다른 색을 사용하여 분포를 구분\n",
    "# - 상관 관계가 있는지 시각적으로 확인 가능"
   ]
  },
  {
   "cell_type": "code",
   "execution_count": null,
   "id": "e412f0aa",
   "metadata": {},
   "outputs": [],
   "source": [
    "# 2. 변수 간 상관 행렬 및 히트맵\n",
    "correlation_matrix = df[['변수1', '변수2']].corr()\n",
    "\n",
    "plt.____(figsize=(6, 5))\n",
    "sns.heatmap(____, annot=True, cmap=\"coolwarm\", fmt=\".2f\", linewidths=0.5)\n",
    "plt.title(\"변수 간 상관 행렬\")\n",
    "plt.____()\n",
    "\n",
    "# 해석:\n",
    "# - 변수1과 변수2의 상관 계수를 확인\n",
    "# - 1에 가까울수록 양의 상관관계, -1에 가까울수록 음의 상관관계\n",
    "# - 0에 가까우면 상관성이 낮음\n"
   ]
  },
  {
   "cell_type": "code",
   "execution_count": null,
   "id": "b7b10782",
   "metadata": {},
   "outputs": [],
   "source": [
    "# 3. 변수 간 관계를 그룹별로 시각화 (페어플롯)\n",
    "sns.pairplot(df, hue=\"Group\", palette=\"deep\", diag_kind=\"hist\")\n",
    "plt.show()\n",
    "\n",
    "# 해석:\n",
    "# - 여러 변수 간의 관계를 한눈에 보기 위한 시각화 기법\n",
    "# - 같은 변수 간의 히스토그램을 대각선(diagonal)에 표시\n",
    "# - 산점도와 히스토그램을 함께 제공하여 데이터 패턴을 쉽게 파악 가능"
   ]
  },
  {
   "cell_type": "code",
   "execution_count": null,
   "id": "b3f726ff",
   "metadata": {},
   "outputs": [],
   "source": [
    "# 4. 그룹별 변수1과 변수2의 분포 비교 (박스플롯)\n",
    "plt.figure(figsize=(10, 5))\n",
    "\n",
    "plt.subplot(1, 2, 1)\n",
    "sns.boxplot(x=\"____\", y=\"____\", data=____, palette=\"pastel\")\n",
    "plt.title(\"그룹별 변수1 분포\")\n",
    "\n",
    "plt.subplot(1, 2, 2)\n",
    "sns.boxplot(x=\"____\", y=\"____\", data=____, palette=\"pastel\")\n",
    "plt.title(\"그룹별 변수2 분포\")\n",
    "\n",
    "plt.tight_layout()\n",
    "plt.show()\n",
    "\n",
    "# 해석:\n",
    "# - 그룹별 변수1과 변수2의 중앙값, 사분위 범위, 이상치를 확인\n",
    "# - 박스 안은 IQR(Interquartile Range, 사분위 범위)\n",
    "# - 수염(whisker)은 데이터 분포의 범위를 나타냄\n",
    "# - 박스 밖 점들은 이상치(Outliers)를 의미할 수 있음"
   ]
  }
 ],
 "metadata": {
  "kernelspec": {
   "display_name": "Python 3",
   "language": "python",
   "name": "python3"
  },
  "language_info": {
   "name": "python",
   "version": "3.9.13"
  }
 },
 "nbformat": 4,
 "nbformat_minor": 5
}
