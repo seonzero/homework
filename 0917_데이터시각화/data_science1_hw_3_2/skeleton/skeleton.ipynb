{
 "cells": [
  {
   "cell_type": "code",
   "execution_count": null,
   "id": "d19d16a0",
   "metadata": {},
   "outputs": [],
   "source": [
    "import pandas as pd\n",
    "import matplotlib.pyplot as plt\n",
    "import seaborn as sns\n",
    "plt.rcParams['font.family'] = 'Malgun Gothic'"
   ]
  },
  {
   "cell_type": "code",
   "execution_count": null,
   "id": "7c1b2fb7",
   "metadata": {},
   "outputs": [],
   "source": [
    "# 데이터 불러오기\n",
    "file_path = \"../data/category_data.csv\"\n",
    "df = pd.read_csv(_____)"
   ]
  },
  {
   "cell_type": "code",
   "execution_count": null,
   "id": "1c75d288",
   "metadata": {},
   "outputs": [],
   "source": [
    "# 데이터 확인\n",
    "print(df.____())  # 상위 5개 행 출력\n",
    "print(df.____())  # 데이터 타입 및 결측치 확인\n",
    "print(df.____())  # 기초 통계 확인"
   ]
  },
  {
   "cell_type": "code",
   "execution_count": null,
   "id": "2e12cf2d",
   "metadata": {},
   "outputs": [],
   "source": [
    "# 1. 카테고리별 데이터 분포 시각화 (Bar Chart)\n",
    "\n",
    "plt.____(figsize=(12, 6))\n",
    "sns.countplot(data=____, x='____', palette='viridis')  # 카테고리별 개수 시각화\n",
    "plt.____('카테고리별 데이터 분포')\n",
    "plt.xticks(rotation=45)  # X축 라벨 가독성 개선\n",
    "plt.xlabel('카테고리')\n",
    "plt.ylabel('개수')\n",
    "plt.____()\n",
    "\n",
    "# **해석**\n",
    "# - 데이터가 각 카테고리에 어떻게 분포하는지 한눈에 파악할 수 있음.\n",
    "# - 특정 카테고리에 데이터가 치우쳐 있거나 부족한 경우 데이터 수집 전략을 조정할 필요가 있음."
   ]
  },
  {
   "cell_type": "code",
   "execution_count": null,
   "id": "e412f0aa",
   "metadata": {},
   "outputs": [],
   "source": [
    "# 2. 카테고리별 수치 데이터 평균 비교 (Bar Chart)\n",
    "\n",
    "if 'Value' in df.columns:  # '값' 컬럼이 존재하는 경우\n",
    "    plt.____(figsize=(12, 6))\n",
    "    sns.barplot(data=____, x='____', y='____', estimator=sum, palette='coolwarm')\n",
    "    plt.____('카테고리별 값 합계')\n",
    "    plt.xticks(rotation=45)\n",
    "    plt.xlabel('카테고리')\n",
    "    plt.ylabel('합계 값')\n",
    "    plt.show()\n",
    "\n",
    "    # **해석**\n",
    "    # - 각 카테고리에서 총합을 비교하여 상대적인 중요도를 파악 가능.\n",
    "    # - 특정 카테고리의 값이 유난히 크거나 작은 경우 데이터 이상치를 검토해야 함."
   ]
  },
  {
   "cell_type": "code",
   "execution_count": null,
   "id": "b7b10782",
   "metadata": {},
   "outputs": [],
   "source": [
    "# 3. 카테고리별 분포 (Boxplot)\n",
    "\n",
    "plt.____(figsize=(12, 6))\n",
    "sns.boxplot(data=____, x='____', y='____', palette='pastel')\n",
    "plt.____('카테고리별 값 분포')\n",
    "plt.xticks(rotation=45)\n",
    "plt.xlabel('카테고리')\n",
    "plt.ylabel('값')\n",
    "plt.____()\n",
    "\n",
    "# **해석**\n",
    "# - 각 카테고리별 값의 중앙값, 범위 및 이상치를 시각적으로 확인할 수 있음.\n",
    "# - 특정 카테고리에서 이상치가 많이 발견된다면 데이터 정제 작업이 필요할 수 있음."
   ]
  }
 ],
 "metadata": {
  "kernelspec": {
   "display_name": "Python 3",
   "language": "python",
   "name": "python3"
  },
  "language_info": {
   "name": "python",
   "version": "3.9.13"
  }
 },
 "nbformat": 4,
 "nbformat_minor": 5
}
