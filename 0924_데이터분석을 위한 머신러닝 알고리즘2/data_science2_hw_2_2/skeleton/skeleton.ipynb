{
 "cells": [
  {
   "cell_type": "code",
   "execution_count": null,
   "id": "3368d9e7",
   "metadata": {},
   "outputs": [],
   "source": [
    "# pip install openpyxl\n",
    "import pandas as pd\n",
    "from sklearn.linear_model import LinearRegression\n",
    "from sklearn.model_selection import train_test_split"
   ]
  },
  {
   "cell_type": "code",
   "execution_count": null,
   "id": "e9e2a872",
   "metadata": {},
   "outputs": [],
   "source": [
    "# 1. 데이터 불러오기\n",
    "# pandas로 엑셀 데이터를 불러옵니다.\n",
    "# file_path는 불러올 엑셀 파일의 경로입니다.\n",
    "# sheet_name은 불러올 시트의 이름을 지정하는데, 여기서는 '2023년 01월' 데이터를 가져옵니다.\n",
    "# 참고: https://pandas.pydata.org/pandas-docs/stable/reference/api/pandas.read_excel.html\n",
    "file_path = '../data/2023년 01월 서울시 교통량.xlsx'\n",
    "data = pd._______(_______, sheet_name=\"2023년 01월\")\n",
    "\n",
    "# 데이터를 살펴보면 현재 일자와 요일이 일치하지 않습니다. 그렇기 때문에 일자 칼럼을 이용하여 요일을 다시 계산해야 합니다."
   ]
  },
  {
   "cell_type": "code",
   "execution_count": null,
   "id": "d8752f0c",
   "metadata": {},
   "outputs": [],
   "source": [
    "# 2. '일자' 컬럼을 datetime 형식으로 변환\n",
    "# 이를 datetime 형식으로 변환하면 날짜 관련 작업이 더 쉬워집니다.\n",
    "# pandas의 to_datetime 함수를 사용하여 '일자' 데이터를 날짜 형식으로 변환합니다.\n",
    "# (참고: '일자' 컬럼은 날짜를 나타내는 값인데, 이 컬럼의 각 값들은 정수 형식(YYYYMMDD)으로 되어 있습니다.)\n",
    "# 정수 형식에 대한 format을 선언해줘야 합니다.\n",
    "# 해주지 않으면 1970-01-01 00:00:00.020230101와 같은 형식으로 표현됩니다.\n",
    "# 참고: https://pandas.pydata.org/pandas-docs/stable/reference/api/pandas.to_datetime.html\n",
    "data['일자'] = __________________________"
   ]
  },
  {
   "cell_type": "code",
   "execution_count": null,
   "id": "afb2a6b5",
   "metadata": {},
   "outputs": [],
   "source": [
    "# 3. 날짜를 기반으로 요일을 자동으로 계산\n",
    "# 요일이 정수로 변환되면 학습 모델에서 이를 숫자형 데이터로 처리할 수 있습니다.\n",
    "# datetime 형식으로 변환된 '일자' 컬럼을 기반으로 요일을 계산합니다.\n",
    "# dt.weekday는 '월요일'=0, '일요일'=6을 반환하므로, +1을 해주어 '월요일'=1, '일요일'=7로 변환합니다.\n",
    "# 참고: https://pandas.pydata.org/pandas-docs/stable/reference/api/pandas.Series.dt.html\n",
    "data['요일'] =__________________________"
   ]
  },
  {
   "cell_type": "code",
   "execution_count": null,
   "id": "20adaf05",
   "metadata": {},
   "outputs": [],
   "source": [
    "# 4. 데이터 필터링\n",
    "# '성산로(금화터널)' 지점에서 '유입' 방향으로 들어오는 데이터만을 선택합니다.\n",
    "# 데이터를 먼저 필터링하여 분석에 필요한 데이터만 남깁니다.\n",
    "# Boolean indexing을 사용하여 조건에 맞는 데이터만 필터링할 수 있습니다.\n",
    "# 예: filtered_data = 데이터프레임[데이터프레임['컬럼명'] == '값' & 데이터프레임['컬럼명'] == '값']\n",
    "# 참고: https://pandas.pydata.org/pandas-docs/stable/user_guide/indexing.html#boolean-indexing\n",
    "filtered_data = __________________________"
   ]
  },
  {
   "cell_type": "code",
   "execution_count": null,
   "id": "320442d1",
   "metadata": {},
   "outputs": [],
   "source": [
    "# 5. 피처와 타깃 값 설정\n",
    "# '요일'을 독립 변수로, '0시' 교통량을 종속 변수로 설정합니다.\n",
    "# 참고: https://pandas.pydata.org/docs/reference/api/pandas.DataFrame.html\n",
    "X = __________________________\n",
    "y = __________________________\n"
   ]
  },
  {
   "cell_type": "code",
   "execution_count": null,
   "id": "96e2c772",
   "metadata": {},
   "outputs": [],
   "source": [
    "# 6. 학습 데이터와 테스트 데이터 분할\n",
    "# 학습 데이터와 테스트 데이터를 나누는 함수로 train_test_split을 사용합니다.\n",
    "# 참고: https://scikit-learn.org/stable/modules/generated/sklearn.model_selection.train_test_split.html\n",
    "X_train, X_test, y_train, y_test = __________________________\n"
   ]
  },
  {
   "cell_type": "code",
   "execution_count": null,
   "id": "0f26b16a",
   "metadata": {},
   "outputs": [],
   "source": [
    "# 7. 선형 회귀 모델 정의 및 학습\n",
    "# scikit-learn의 LinearRegression 모델을 사용하여 학습 데이터를 학습시킵니다.\n",
    "# 참고: https://scikit-learn.org/stable/modules/generated/sklearn.linear_model.LinearRegression.html\n",
    "model = __________________________\n",
    "model.fit(__________________________)"
   ]
  },
  {
   "cell_type": "code",
   "execution_count": null,
   "id": "3427b0d1",
   "metadata": {},
   "outputs": [],
   "source": [
    "# 8. 모델 평가\n",
    "# 학습된 모델을 평가하기 위해 R² 점수를 사용합니다. 1에 가까울수록 좋은 성능을 의미합니다.\n",
    "# scikit-learn의 score() 함수는 기본적으로 R² 점수를 반환합니다.\n",
    "# 참고: https://scikit-learn.org/stable/modules/generated/sklearn.linear_model.LinearRegression.html#sklearn.linear_model.LinearRegression.score\n",
    "r2_score = __________________________\n",
    "print(f\"R²: {r2_score}\")"
   ]
  }
 ],
 "metadata": {
  "language_info": {
   "name": "python"
  }
 },
 "nbformat": 4,
 "nbformat_minor": 5
}
