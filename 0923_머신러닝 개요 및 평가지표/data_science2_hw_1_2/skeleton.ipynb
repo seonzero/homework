{
 "cells": [
  {
   "cell_type": "code",
   "execution_count": 2,
   "id": "982fae90",
   "metadata": {},
   "outputs": [],
   "source": [
    "import pandas as pd\n",
    "import numpy as np"
   ]
  },
  {
   "cell_type": "code",
   "execution_count": 3,
   "id": "386afbdd",
   "metadata": {},
   "outputs": [],
   "source": [
    "# -------------------------------------------------------------\n",
    "# 0) 예시 데이터 \n",
    "# -------------------------------------------------------------\n",
    "data = pd.DataFrame({\n",
    "    'Trip ID': [1, 2, 3, 4, 5],\n",
    "    'Age': [25, 34, 45, 29, 40],                 # 제거할 컬럼\n",
    "    'Car Color': ['Red', 'Blue', 'Green', 'Red', 'Black'],  # 제거할 컬럼\n",
    "    'Destination From': ['A', 'B', 'C', 'D', 'E'],\n",
    "    'Destination To': ['F', 'G', 'H', 'I', 'J'],\n",
    "    'Distance (km)': [12.5, 25.3, 19.8, 30.2, 15.7]\n",
    "})\n"
   ]
  },
  {
   "cell_type": "code",
   "execution_count": null,
   "id": "56ab8412",
   "metadata": {},
   "outputs": [],
   "source": [
    "# -------------------------------------------------------------\n",
    "# 1) 불필요한 컬럼(Age, Car Color) 제거\n",
    "# -------------------------------------------------------------\n",
    "data_cleaned = ________________"
   ]
  },
  {
   "cell_type": "code",
   "execution_count": null,
   "id": "5fc148f1",
   "metadata": {},
   "outputs": [],
   "source": [
    "# -------------------------------------------------------------\n",
    "# 2) 최대 이동 거리 탐색 및 해당 경로 필터링\n",
    "# -------------------------------------------------------------\n",
    "max_distance = data_cleaned['Distance (km)']._________\n",
    "longest_trip = _________\n",
    "\n",
    "print(\"[결과] 가장 먼 거리의 출발지-도착지 경로\")\n",
    "print(longest_trip[['Destination From', 'Destination To', 'Distance (km)']])\n",
    "print()"
   ]
  },
  {
   "cell_type": "code",
   "execution_count": null,
   "id": "793155ab",
   "metadata": {},
   "outputs": [],
   "source": [
    "# -------------------------------------------------------------\n",
    "# 3) (전처리) 파생 변수 생성: 장거리 여부 플래그 (Feature Creation)\n",
    "# 장거리 여부 표시\n",
    "#    - 기준선을 하나 정해 두면(예: 20km) 집계·비율 확인이 쉬워짐\n",
    "# is_long: 기준선 이상이면 1, 아니면 0 (type: int)\n",
    "# -------------------------------------------------------------\n",
    "THRESHOLD_KM = 20  # 목적 기준선\n",
    "data_feat = data_cleaned.copy()\n",
    "data_feat['is_long'] = _______________________\n",
    "\n",
    "print(\"[파생변수] is_long (>=20km):\")\n",
    "print(data_feat[['Destination From', 'Destination To', 'Distance (km)', 'is_long']])\n",
    "print()"
   ]
  },
  {
   "cell_type": "code",
   "execution_count": null,
   "id": "c1fe42e7",
   "metadata": {},
   "outputs": [],
   "source": [
    "# -------------------------------------------------------------\n",
    "# 4) (전처리) 결측치/이상치 점검\n",
    "#    - 결측치 요약, IQR 기반 이상값 후보 탐지\n",
    "# -------------------------------------------------------------\n",
    "# 4-1) 결측치 점검 (컬럼 별 결측치 개수)\n",
    "na_summary = data_feat.________________\n",
    "print(\"[결측치 점검]\")\n",
    "print(na_summary)\n",
    "print()\n",
    "\n",
    "# 4-2) 이상치 점검 (IQR 방법) - 'Distance (km)'에 대한 이상치만 점검\n",
    "q1 = data_feat['Distance (km)'].________(0.25)\n",
    "q3 = data_feat['Distance (km)'].________(0.75)\n",
    "iqr = ________\n",
    "low, high = q1 - 1.5*iqr, q3 + 1.5*iqr\n",
    "outliers = data_feat[ ________ | ________ ]\n",
    "\n",
    "print(\"[이상치(IQR) 점검]\")\n",
    "print(f\"Q1={q1:.2f}, Q3={q3:.2f}, IQR={iqr:.2f}, 범위=({low:.2f} ~ {high:.2f})\")\n",
    "print(\"이상치 후보:\\n\", outliers if not outliers.empty else \"없음\")\n",
    "print()"
   ]
  },
  {
   "cell_type": "code",
   "execution_count": null,
   "id": "82c8b631",
   "metadata": {},
   "outputs": [],
   "source": [
    "# -------------------------------------------------------------\n",
    "# 5) (전처리) 범주형 인코딩 (One-Hot Encoding)\n",
    "#    - 문자형(출발지/도착지)을 0/1 숫자 형태 컬럼으로 변환 - get_dummies 활용\n",
    "# -------------------------------------------------------------\n",
    "encoded = pd.________(\n",
    "    data_feat,\n",
    "    columns=['Destination From', 'Destination To'],\n",
    "    drop_first=False,\n",
    "    dtype='int8'\n",
    ")\n",
    "\n",
    "print(\"[원-핫 인코딩 결과 컬럼]\")\n",
    "print(list(encoded.columns))\n",
    "print()"
   ]
  },
  {
   "cell_type": "code",
   "execution_count": null,
   "id": "2627adbd",
   "metadata": {},
   "outputs": [],
   "source": [
    "# -------------------------------------------------------------\n",
    "# 6) 최종 전처리 산출물\n",
    "#    - 불필요 컬럼 제거 + 파생변수 + 인코딩까지 마친 DataFrame 확인\n",
    "# -------------------------------------------------------------\n",
    "print(\"[최종 전처리 데이터(preview)]\")\n",
    "print(encoded.head())"
   ]
  }
 ],
 "metadata": {
  "kernelspec": {
   "display_name": "ds",
   "language": "python",
   "name": "python3"
  },
  "language_info": {
   "codemirror_mode": {
    "name": "ipython",
    "version": 3
   },
   "file_extension": ".py",
   "mimetype": "text/x-python",
   "name": "python",
   "nbconvert_exporter": "python",
   "pygments_lexer": "ipython3",
   "version": "3.9.13"
  }
 },
 "nbformat": 4,
 "nbformat_minor": 5
}
