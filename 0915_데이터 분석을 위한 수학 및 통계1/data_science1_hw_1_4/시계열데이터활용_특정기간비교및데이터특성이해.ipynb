{
 "cells": [
  {
   "cell_type": "code",
   "execution_count": 8,
   "id": "ca686a08",
   "metadata": {},
   "outputs": [],
   "source": [
    "import pandas as pd\n",
    "\n",
    "file_path_ts = \"../data_science1_hw_1_4/data/time_series_data.csv\"\n",
    "df_ts = pd.read_csv(file_path_ts)"
   ]
  },
  {
   "cell_type": "code",
   "execution_count": 9,
   "id": "9e40dd3a",
   "metadata": {},
   "outputs": [
    {
     "data": {
      "text/html": [
       "<div>\n",
       "<style scoped>\n",
       "    .dataframe tbody tr th:only-of-type {\n",
       "        vertical-align: middle;\n",
       "    }\n",
       "\n",
       "    .dataframe tbody tr th {\n",
       "        vertical-align: top;\n",
       "    }\n",
       "\n",
       "    .dataframe thead th {\n",
       "        text-align: right;\n",
       "    }\n",
       "</style>\n",
       "<table border=\"1\" class=\"dataframe\">\n",
       "  <thead>\n",
       "    <tr style=\"text-align: right;\">\n",
       "      <th></th>\n",
       "      <th>Date</th>\n",
       "      <th>value</th>\n",
       "    </tr>\n",
       "  </thead>\n",
       "  <tbody>\n",
       "    <tr>\n",
       "      <th>0</th>\n",
       "      <td>2023-01-01</td>\n",
       "      <td>52.274599</td>\n",
       "    </tr>\n",
       "    <tr>\n",
       "      <th>1</th>\n",
       "      <td>2023-01-02</td>\n",
       "      <td>63.071428</td>\n",
       "    </tr>\n",
       "    <tr>\n",
       "      <th>2</th>\n",
       "      <td>2023-01-03</td>\n",
       "      <td>33.925168</td>\n",
       "    </tr>\n",
       "    <tr>\n",
       "      <th>3</th>\n",
       "      <td>2023-01-04</td>\n",
       "      <td>51.846339</td>\n",
       "    </tr>\n",
       "    <tr>\n",
       "      <th>4</th>\n",
       "      <td>2023-01-05</td>\n",
       "      <td>52.598828</td>\n",
       "    </tr>\n",
       "  </tbody>\n",
       "</table>\n",
       "</div>"
      ],
      "text/plain": [
       "         Date      value\n",
       "0  2023-01-01  52.274599\n",
       "1  2023-01-02  63.071428\n",
       "2  2023-01-03  33.925168\n",
       "3  2023-01-04  51.846339\n",
       "4  2023-01-05  52.598828"
      ]
     },
     "execution_count": 9,
     "metadata": {},
     "output_type": "execute_result"
    }
   ],
   "source": [
    "df_ts.head()"
   ]
  },
  {
   "cell_type": "code",
   "execution_count": 10,
   "id": "be880127",
   "metadata": {},
   "outputs": [
    {
     "name": "stdout",
     "output_type": "stream",
     "text": [
      "<class 'pandas.core.frame.DataFrame'>\n",
      "RangeIndex: 365 entries, 0 to 364\n",
      "Data columns (total 2 columns):\n",
      " #   Column  Non-Null Count  Dtype  \n",
      "---  ------  --------------  -----  \n",
      " 0   Date    365 non-null    object \n",
      " 1   value   365 non-null    float64\n",
      "dtypes: float64(1), object(1)\n",
      "memory usage: 5.8+ KB\n"
     ]
    }
   ],
   "source": [
    "df_ts.info()"
   ]
  },
  {
   "cell_type": "markdown",
   "id": "3266bac0",
   "metadata": {},
   "source": [
    "현재는 Datetime이 object이기때문에 활용하기 쉽지 않음\n",
    "to_datetime함수를 이용해서 datetime 형식으로 변환하자. "
   ]
  },
  {
   "cell_type": "code",
   "execution_count": 11,
   "id": "25531342",
   "metadata": {},
   "outputs": [
    {
     "name": "stdout",
     "output_type": "stream",
     "text": [
      "전체 데이터의 기본 통계량:\n",
      "count    365.000000\n",
      "mean      50.452941\n",
      "std        9.976651\n",
      "min       17.587327\n",
      "25%       42.923305\n",
      "50%       50.642800\n",
      "75%       56.795977\n",
      "max       88.527315\n",
      "Name: value, dtype: float64\n"
     ]
    }
   ],
   "source": [
    "# 날짜데이터를 datatime 형식으로 변환\n",
    "df_ts[\"Date\"] = pd.to_datetime(df_ts[\"Date\"])\n",
    "\n",
    "#데이터정렬\n",
    "df_ts = df_ts.sort_values(by=\"Date\")\n",
    "\n",
    "#전체데이터의 기본통계량 확인 (데이터분포파악)\n",
    "summary_stats = df_ts[\"value\"].describe()\n",
    "\n",
    "#기본통계량 출력\n",
    "print(\"전체 데이터의 기본 통계량:\")\n",
    "print(summary_stats)"
   ]
  },
  {
   "cell_type": "code",
   "execution_count": 18,
   "id": "cc17b5ee",
   "metadata": {},
   "outputs": [
    {
     "data": {
      "text/html": [
       "<div>\n",
       "<style scoped>\n",
       "    .dataframe tbody tr th:only-of-type {\n",
       "        vertical-align: middle;\n",
       "    }\n",
       "\n",
       "    .dataframe tbody tr th {\n",
       "        vertical-align: top;\n",
       "    }\n",
       "\n",
       "    .dataframe thead th {\n",
       "        text-align: right;\n",
       "    }\n",
       "</style>\n",
       "<table border=\"1\" class=\"dataframe\">\n",
       "  <thead>\n",
       "    <tr style=\"text-align: right;\">\n",
       "      <th></th>\n",
       "      <th>Date</th>\n",
       "      <th>value</th>\n",
       "      <th>Month</th>\n",
       "    </tr>\n",
       "  </thead>\n",
       "  <tbody>\n",
       "    <tr>\n",
       "      <th>0</th>\n",
       "      <td>2023-01-01</td>\n",
       "      <td>52.274599</td>\n",
       "      <td>1</td>\n",
       "    </tr>\n",
       "    <tr>\n",
       "      <th>1</th>\n",
       "      <td>2023-01-02</td>\n",
       "      <td>63.071428</td>\n",
       "      <td>1</td>\n",
       "    </tr>\n",
       "    <tr>\n",
       "      <th>2</th>\n",
       "      <td>2023-01-03</td>\n",
       "      <td>33.925168</td>\n",
       "      <td>1</td>\n",
       "    </tr>\n",
       "    <tr>\n",
       "      <th>3</th>\n",
       "      <td>2023-01-04</td>\n",
       "      <td>51.846339</td>\n",
       "      <td>1</td>\n",
       "    </tr>\n",
       "    <tr>\n",
       "      <th>4</th>\n",
       "      <td>2023-01-05</td>\n",
       "      <td>52.598828</td>\n",
       "      <td>1</td>\n",
       "    </tr>\n",
       "  </tbody>\n",
       "</table>\n",
       "</div>"
      ],
      "text/plain": [
       "        Date      value  Month\n",
       "0 2023-01-01  52.274599      1\n",
       "1 2023-01-02  63.071428      1\n",
       "2 2023-01-03  33.925168      1\n",
       "3 2023-01-04  51.846339      1\n",
       "4 2023-01-05  52.598828      1"
      ]
     },
     "execution_count": 18,
     "metadata": {},
     "output_type": "execute_result"
    }
   ],
   "source": [
    "# 특정 기간 비교: 연초(1월)와 연말(12월)의 평균 비교\n",
    "# \"Date\"컬럼에서 월 정보를 추출하여 새로운 컬럼 추가\n",
    "df_ts[\"Month\"] = df_ts[\"Date\"].dt.month\n",
    "\n",
    "df_ts.head()"
   ]
  },
  {
   "cell_type": "code",
   "execution_count": 21,
   "id": "4fb6f1b7",
   "metadata": {},
   "outputs": [
    {
     "name": "stdout",
     "output_type": "stream",
     "text": [
      "0    52.274599\n",
      "1    63.071428\n",
      "2    33.925168\n",
      "3    51.846339\n",
      "4    52.598828\n",
      "Name: value, dtype: float64\n",
      "\n",
      "51.06594006805506\n"
     ]
    }
   ],
   "source": [
    "# 1월과 12월 데이터만 선택\n",
    "# - 1월 데이터를 `jan_values` 변수에 저장\n",
    "# - 12월 데이터를 `dec_values` 변수에 저장\n",
    "jan_values = df_ts[df_ts[\"Month\"] == 1][\"value\"]\n",
    "dec_values = df_ts[df_ts[\"Month\"] == 12][\"value\"]\n",
    "\n",
    "# 1월과 12월의 평균 값 계산\n",
    "jan_mean = jan_values.mean()\n",
    "dec_mean = dec_values.mean()\n",
    "\n",
    "print(jan_values.head())\n",
    "print()\n",
    "print(jan_mean)\n"
   ]
  },
  {
   "cell_type": "code",
   "execution_count": null,
   "id": "dc754d1f",
   "metadata": {},
   "outputs": [
    {
     "name": "stdout",
     "output_type": "stream",
     "text": [
      "\n",
      "1월과 12월의 평균 비교:\n",
      "1월 평균: 51.07\n",
      "12월 평균: 51.06\n"
     ]
    }
   ],
   "source": [
    "# 1월과 12월 평균 출력\n",
    "print(\"\\n1월과 12월의 평균 비교:\")\n",
    "print(f\"1월 평균: {jan_mean:.2f}\")\n",
    "print(f\"12월 평균: {dec_mean:.2f}\")"
   ]
  },
  {
   "cell_type": "code",
   "execution_count": 22,
   "id": "b8a54ed5",
   "metadata": {},
   "outputs": [
    {
     "data": {
      "image/png": "[encoded data removed]",
      "text/plain": [
       "<Figure size 640x480 with 1 Axes>"
      ]
     },
     "metadata": {},
     "output_type": "display_data"
    }
   ],
   "source": [
    "# 표본 평균의 분포를 살펴봅시다.\n",
    "# 1월 데이터에서 표본 크기 n=30을 무작위로 여러 번 뽑아,\n",
    "# 각 표본 평균을 구한 뒤 히스토그램으로 표현하세요.\n",
    "# ----------------------------------------------------\n",
    "import numpy as np\n",
    "import matplotlib.pyplot as plt\n",
    "\n",
    "sample_means = []\n",
    "for _ in range(1000):  # 1000번 반복\n",
    "    sample = np.random.choice(jan_values, size=30, replace=True)\n",
    "    sample_means.append(sample.mean())\n",
    "\n",
    "plt.hist(sample_means, bins=30, edgecolor=\"black\")\n",
    "plt.title(\"Distribution of Sample Means (n=30)\")\n",
    "plt.xlabel(\"Sample Mean\")\n",
    "plt.ylabel(\"Frequency\")\n",
    "plt.show()"
   ]
  },
  {
   "cell_type": "code",
   "execution_count": 24,
   "id": "97204e99",
   "metadata": {},
   "outputs": [
    {
     "data": {
      "text/plain": [
       "np.float64(61.195749114345766)"
      ]
     },
     "execution_count": 24,
     "metadata": {},
     "output_type": "execute_result"
    }
   ],
   "source": [
    "threshold = np.percentile(dec_values, 80)  # 상위 20% 기준\n",
    "threshold"
   ]
  },
  {
   "cell_type": "code",
   "execution_count": 25,
   "id": "87e004fd",
   "metadata": {},
   "outputs": [
    {
     "name": "stdout",
     "output_type": "stream",
     "text": [
      "\n",
      "선택 편향 시뮬레이션:\n",
      "12월 전체 평균: 51.06\n",
      "12월 상위 20% 평균: 67.78\n",
      "→ 상위 데이터만 선택하면 평균이 왜곡되어 모집단을 대표하지 못하는 선택 편향 발생\n"
     ]
    }
   ],
   "source": [
    "# 12월 데이터에서 상위 20% 값만 뽑아 평균을 구하고,\n",
    "# 전체 평균과 비교해 보세요.\n",
    "# 어떤 편향이 발생하는지도 함께 설명해봅시다.\n",
    "# ----------------------------------------------------\n",
    "threshold = np.percentile(dec_values, 80)  # 상위 20% 기준\n",
    "biased_sample = dec_values[dec_values >= threshold ]\n",
    "\n",
    "biased_mean = biased_sample.mean()\n",
    "true_mean = dec_values.mean()\n",
    "\n",
    "print(\"\\n선택 편향 시뮬레이션:\")\n",
    "print(f\"12월 전체 평균: {true_mean:.2f}\")\n",
    "print(f\"12월 상위 20% 평균: {biased_mean:.2f}\")\n",
    "print(\"→ 상위 데이터만 선택하면 평균이 왜곡되어 모집단을 대표하지 못하는 선택 편향 발생\")"
   ]
  }
 ],
 "metadata": {
  "kernelspec": {
   "display_name": "Python 3",
   "language": "python",
   "name": "python3"
  },
  "language_info": {
   "codemirror_mode": {
    "name": "ipython",
    "version": 3
   },
   "file_extension": ".py",
   "mimetype": "text/x-python",
   "name": "python",
   "nbconvert_exporter": "python",
   "pygments_lexer": "ipython3",
   "version": "3.11.9"
  }
 },
 "nbformat": 4,
 "nbformat_minor": 5
}
