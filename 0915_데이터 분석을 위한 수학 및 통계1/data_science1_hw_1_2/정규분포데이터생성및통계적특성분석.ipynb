{
 "cells": [
  {
   "cell_type": "code",
   "execution_count": 1,
   "id": "11047942",
   "metadata": {},
   "outputs": [],
   "source": [
    "import numpy as np\n",
    "import pandas as pd\n",
    "from scipy.stats import norm"
   ]
  },
  {
   "cell_type": "code",
   "execution_count": null,
   "id": "80af615c",
   "metadata": {},
   "outputs": [],
   "source": [
    "# 1. 정규분포 데이터 생성하기\n",
    "# 평균, 표준편차, 데이터개수\n",
    "# np.random.normal(평균, 표준편차, 데이터개수)\n",
    "mu, sigma, size = 50, 10, 1000\n",
    "data = np.random.normal(loc=mu, scale=sigma, size=1000)"
   ]
  },
  {
   "cell_type": "code",
   "execution_count": 3,
   "id": "887b2fa9",
   "metadata": {},
   "outputs": [
    {
     "data": {
      "text/html": [
       "<div>\n",
       "<style scoped>\n",
       "    .dataframe tbody tr th:only-of-type {\n",
       "        vertical-align: middle;\n",
       "    }\n",
       "\n",
       "    .dataframe tbody tr th {\n",
       "        vertical-align: top;\n",
       "    }\n",
       "\n",
       "    .dataframe thead th {\n",
       "        text-align: right;\n",
       "    }\n",
       "</style>\n",
       "<table border=\"1\" class=\"dataframe\">\n",
       "  <thead>\n",
       "    <tr style=\"text-align: right;\">\n",
       "      <th></th>\n",
       "      <th>value</th>\n",
       "    </tr>\n",
       "  </thead>\n",
       "  <tbody>\n",
       "    <tr>\n",
       "      <th>0</th>\n",
       "      <td>48.688274</td>\n",
       "    </tr>\n",
       "    <tr>\n",
       "      <th>1</th>\n",
       "      <td>44.246489</td>\n",
       "    </tr>\n",
       "    <tr>\n",
       "      <th>2</th>\n",
       "      <td>36.170117</td>\n",
       "    </tr>\n",
       "    <tr>\n",
       "      <th>3</th>\n",
       "      <td>46.549568</td>\n",
       "    </tr>\n",
       "    <tr>\n",
       "      <th>4</th>\n",
       "      <td>50.579114</td>\n",
       "    </tr>\n",
       "    <tr>\n",
       "      <th>...</th>\n",
       "      <td>...</td>\n",
       "    </tr>\n",
       "    <tr>\n",
       "      <th>995</th>\n",
       "      <td>46.540167</td>\n",
       "    </tr>\n",
       "    <tr>\n",
       "      <th>996</th>\n",
       "      <td>33.616107</td>\n",
       "    </tr>\n",
       "    <tr>\n",
       "      <th>997</th>\n",
       "      <td>57.739970</td>\n",
       "    </tr>\n",
       "    <tr>\n",
       "      <th>998</th>\n",
       "      <td>40.561117</td>\n",
       "    </tr>\n",
       "    <tr>\n",
       "      <th>999</th>\n",
       "      <td>43.095701</td>\n",
       "    </tr>\n",
       "  </tbody>\n",
       "</table>\n",
       "<p>1000 rows × 1 columns</p>\n",
       "</div>"
      ],
      "text/plain": [
       "         value\n",
       "0    48.688274\n",
       "1    44.246489\n",
       "2    36.170117\n",
       "3    46.549568\n",
       "4    50.579114\n",
       "..         ...\n",
       "995  46.540167\n",
       "996  33.616107\n",
       "997  57.739970\n",
       "998  40.561117\n",
       "999  43.095701\n",
       "\n",
       "[1000 rows x 1 columns]"
      ]
     },
     "execution_count": 3,
     "metadata": {},
     "output_type": "execute_result"
    }
   ],
   "source": [
    "# 2. 데이터를 dataframe으로 변환하기\n",
    "# pandas를 이용하기\n",
    "df = pd.DataFrame( {\"value\": data })\n",
    "df"
   ]
  },
  {
   "cell_type": "code",
   "execution_count": 4,
   "id": "a1c6002c",
   "metadata": {},
   "outputs": [],
   "source": [
    "# 3. 전체 데이터의 기본 통계량 확인 - describe함수\n",
    "summary_stats = df[\"value\"].describe()"
   ]
  },
  {
   "cell_type": "code",
   "execution_count": 5,
   "id": "de3a6a6c",
   "metadata": {},
   "outputs": [
    {
     "data": {
      "text/plain": [
       "count    1000.000000\n",
       "mean       50.609642\n",
       "std         9.867444\n",
       "min        22.234616\n",
       "25%        44.142775\n",
       "50%        50.815892\n",
       "75%        57.197075\n",
       "max        77.888373\n",
       "Name: value, dtype: float64"
      ]
     },
     "execution_count": 5,
     "metadata": {},
     "output_type": "execute_result"
    }
   ],
   "source": [
    "summary_stats"
   ]
  },
  {
   "cell_type": "code",
   "execution_count": 6,
   "id": "a839dd93",
   "metadata": {},
   "outputs": [],
   "source": [
    "# 4. 정규분포의 이론적 기댓값과 비교\n",
    "\n",
    "# (1) 평균과 표준편차를 계산하자\n",
    "mean_value = df[\"value\"].mean()\n",
    "std_value = df[\"value\"].std()\n",
    "\n",
    "\n",
    "# (2) 68 - 95 - 99.7 의 법칙을 사용하자\n",
    "# - 정규분포에서는 평균을 기준으로 데이터가 특정 범위 내에 포함되는 비율이 정해져 있음\n",
    "# - 평균 ±1 표준편차 내에 약 68%의 데이터가 존재해야 함\n",
    "# - 평균 ±2 표준편차 내에 약 95%의 데이터가 존재해야 함\n",
    "# - 평균 ±3 표준편차 내에 약 99.7%의 데이터가 존재해야 함\n",
    "within_1_sigma = np.sum( (df[\"value\"] >= mean_value - std_value) & (df[\"value\"] <= mean_value + std_value)) / size*100\n",
    "within_2_sigma = np.sum( (df[\"value\"] >= mean_value - 2*std_value) & (df[\"value\"] <= mean_value + 2*std_value)) / size*100\n",
    "within_3_sigma = np.sum( (df[\"value\"] >= mean_value - 3*std_value) & (df[\"value\"] <= mean_value + 3*std_value)) / size*100"
   ]
  },
  {
   "cell_type": "code",
   "execution_count": 7,
   "id": "725e7cbd",
   "metadata": {},
   "outputs": [],
   "source": [
    "# 5. 정규분포 검정 수행\n",
    "#평균과 표준편차가 정규분포의 이론적인 값과 얼마나 유사한지 확인하자\n",
    "#특정값(예:평균)에서의 확률밀도함수(pdf)값을 계산하여 정규값을 검토하자\n",
    "\n",
    "sample_value = mu\n",
    "pdf_value = norm.pdf(sample_value, loc=mean_value, scale = std_value )"
   ]
  },
  {
   "cell_type": "code",
   "execution_count": 8,
   "id": "0fe84706",
   "metadata": {},
   "outputs": [
    {
     "name": "stdout",
     "output_type": "stream",
     "text": [
      "전체 데이터의 기본 통계량:\n",
      "count    1000.000000\n",
      "mean       50.609642\n",
      "std         9.867444\n",
      "min        22.234616\n",
      "25%        44.142775\n",
      "50%        50.815892\n",
      "75%        57.197075\n",
      "max        77.888373\n",
      "Name: value, dtype: float64\n",
      "\n",
      "68-95-99.7 법칙 적용 결과:\n",
      "68% 범위 내 데이터 비율: 68.90%\n",
      "95% 범위 내 데이터 비율: 94.90%\n",
      "99.7% 범위 내 데이터 비율: 100.00%\n",
      "\n",
      "정규분포 검정 결과:\n",
      "샘플 평균: 50.61, 샘플 표준편차: 9.87\n",
      "이론적 정규분포의 평균: 50, 표준편차: 10\n",
      "평균 값(50)에서의 이론적 확률밀도함수(PDF) 값: 0.040353\n"
     ]
    }
   ],
   "source": [
    "# 6. 결과 출력\n",
    "print(\"전체 데이터의 기본 통계량:\")\n",
    "print(summary_stats)\n",
    "\n",
    "print(\"\\n68-95-99.7 법칙 적용 결과:\")\n",
    "print(f\"68% 범위 내 데이터 비율: {within_1_sigma:.2f}%\")\n",
    "print(f\"95% 범위 내 데이터 비율: {within_2_sigma:.2f}%\")\n",
    "print(f\"99.7% 범위 내 데이터 비율: {within_3_sigma:.2f}%\")\n",
    "\n",
    "print(\"\\n정규분포 검정 결과:\")\n",
    "print(f\"샘플 평균: {mean_value:.2f}, 샘플 표준편차: {std_value:.2f}\")\n",
    "print(f\"이론적 정규분포의 평균: {mu}, 표준편차: {sigma}\")\n",
    "print(f\"평균 값({sample_value})에서의 이론적 확률밀도함수(PDF) 값: {pdf_value:.6f}\")\n"
   ]
  },
  {
   "cell_type": "markdown",
   "id": "0a693103",
   "metadata": {},
   "source": [
    "결론 해석\n",
    "- 생성된 데이터가 평균 50, 표준편차 10을 따르는 정규분포에 가깝다는 것을 확인\n",
    "- 68-95-99.7 법칙을 적용한 결과, 실제 데이터가 이론적 정규 분포와 유사한 분포를 보임\n",
    "- 샘플 데이터의 평균과 표준편차가 정규분포의 이론적 값과 거의 동일함\n",
    "- 추가적인 정규성 검정(QQ-plot, 샤피로-월크 검정 등)을 수행하면 보다 정확한 분석이 가능하다."
   ]
  }
 ],
 "metadata": {
  "kernelspec": {
   "display_name": "Python 3",
   "language": "python",
   "name": "python3"
  },
  "language_info": {
   "codemirror_mode": {
    "name": "ipython",
    "version": 3
   },
   "file_extension": ".py",
   "mimetype": "text/x-python",
   "name": "python",
   "nbconvert_exporter": "python",
   "pygments_lexer": "ipython3",
   "version": "3.11.9"
  }
 },
 "nbformat": 4,
 "nbformat_minor": 5
}
