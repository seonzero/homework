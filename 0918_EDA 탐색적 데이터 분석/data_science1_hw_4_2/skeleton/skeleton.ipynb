{
 "cells": [
  {
   "cell_type": "code",
   "execution_count": null,
   "id": "fa726e9c",
   "metadata": {},
   "outputs": [],
   "source": [
    "# 포함 기술스택: python, pandas\n",
    "import pandas as pd"
   ]
  },
  {
   "cell_type": "code",
   "execution_count": null,
   "id": "194e3380",
   "metadata": {},
   "outputs": [],
   "source": [
    "# 데이터 로드\n",
    "file_path = ________\n",
    "movies = _________"
   ]
  },
  {
   "cell_type": "code",
   "execution_count": null,
   "id": "cf7511ab",
   "metadata": {},
   "outputs": [],
   "source": [
    "# 사용자로부터 감독 이름 입력 받기\n",
    "director_name = input(\"감독의 이름을 입력하세요: \")"
   ]
  },
  {
   "cell_type": "code",
   "execution_count": null,
   "id": "9874b771",
   "metadata": {},
   "outputs": [],
   "source": [
    "# 특정 감독의 영화 필터링\n",
    "director_movies = movies.loc[_________]"
   ]
  },
  {
   "cell_type": "code",
   "execution_count": null,
   "id": "e8f82df4",
   "metadata": {},
   "outputs": [],
   "source": [
    "# 평균 평점 계산\n",
    "average_rating = ____________\n",
    "print(f\"{director_name} 감독 영화의 평균 평점: {average_rating:.2f}\")"
   ]
  },
  {
   "cell_type": "code",
   "execution_count": null,
   "id": "c4f8b08a",
   "metadata": {},
   "outputs": [],
   "source": [
    "# 가장 높은 평점을 받은 영화 찾기\n",
    "best_movie = director_movies.loc[_________.idxmax()]\n",
    "print(f\"가장 높은 평점을 받은 영화: {best_movie['Title']} ({best_movie['Rating']})\")"
   ]
  }
 ],
 "metadata": {
  "kernelspec": {
   "display_name": "Python 3",
   "language": "python",
   "name": "python3"
  },
  "language_info": {
   "codemirror_mode": {
    "name": "ipython",
    "version": 3
   },
   "file_extension": ".py",
   "mimetype": "text/x-python",
   "name": "python",
   "nbconvert_exporter": "python",
   "pygments_lexer": "ipython3",
   "version": "3.9.13"
  }
 },
 "nbformat": 4,
 "nbformat_minor": 5
}
