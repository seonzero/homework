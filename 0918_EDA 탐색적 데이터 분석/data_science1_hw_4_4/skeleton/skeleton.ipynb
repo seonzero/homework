{
 "cells": [
  {
   "cell_type": "code",
   "execution_count": 1,
   "id": "d1915a45",
   "metadata": {},
   "outputs": [],
   "source": [
    "import pandas as pd\n",
    "import matplotlib.pyplot as plt\n",
    "plt.rcParams['font.family'] = 'Malgun Gothic'"
   ]
  },
  {
   "cell_type": "code",
   "execution_count": null,
   "id": "5084281c",
   "metadata": {},
   "outputs": [],
   "source": [
    "# 1. 데이터 로드 및 기본 정보 확인\n",
    "# 주어진 주식 데이터 파일을 불러옴\n",
    "file_path = \"../data/stock_data.csv\"  # 실제 데이터 파일 경로\n",
    "df = pd.read_csv(_____)  # 데이터 파일을 불러오는 코드 작성\n"
   ]
  },
  {
   "cell_type": "code",
   "execution_count": null,
   "id": "8eecc44d",
   "metadata": {},
   "outputs": [],
   "source": [
    "# 데이터의 첫 5행 출력 (EDA의 첫 단계)\n",
    "print(\"데이터 미리보기\")\n",
    "df.______"
   ]
  },
  {
   "cell_type": "code",
   "execution_count": null,
   "id": "6db06ead",
   "metadata": {},
   "outputs": [],
   "source": [
    "# 데이터의 기본 정보 확인 (컬럼명, 데이터 타입, 결측값 확인)\n",
    "print(\"\\n데이터 정보\")\n",
    "df.______"
   ]
  },
  {
   "cell_type": "code",
   "execution_count": null,
   "id": "b1d6f13c",
   "metadata": {},
   "outputs": [],
   "source": [
    "# 2. 필요한 컬럼 선택 및 데이터 변환\n",
    "# 'Date' 컬럼을 날짜 형식으로 변환\n",
    "df['Date'] = pd.to_datetime(_____)  # 날짜 데이터를 datetime 타입으로 변환\n",
    "\n",
    "# 'Close' 컬럼의 결측값 제거\n",
    "df = df[['Date', 'Close']]._____()  # 종가 값이 없는 경우 제거()\n",
    "\n",
    "df"
   ]
  },
  {
   "cell_type": "code",
   "execution_count": null,
   "id": "66d41263",
   "metadata": {},
   "outputs": [],
   "source": [
    "# 3. 월별 종가 평균 계산\n",
    "# Date 컬럼을 기준으로 연-월 형태의 새로운 컬럼 생성 (YYYY-MM 형식)\n",
    "df['YearMonth'] = df['Date'].dt._____('_____')\n",
    "\n",
    "# 각 월별 종가의 평균 계산\n",
    "monthly_avg_close = df.groupby('_____')['_____']._____().reset_index()"
   ]
  },
  {
   "cell_type": "code",
   "execution_count": null,
   "id": "2478f7eb",
   "metadata": {},
   "outputs": [],
   "source": [
    "# 4. 데이터 시각화 (월별 평균 종가)\n",
    "plt.figure(figsize=(12, 6))  # 그래프 크기 설정\n",
    "plt.plot(_____.astype(str), _____, marker='o', linestyle='-', color='b', label='월별 평균 종가')\n",
    "\n",
    "# 그래프 제목 및 라벨 설정\n",
    "plt.title('주식 데이터 월별 평균 종가 분석')\n",
    "plt.xlabel('연-월')\n",
    "plt.ylabel('평균 종가')\n",
    "plt.xticks(rotation=45)  # X축 라벨 회전\n",
    "plt.legend()\n",
    "plt.grid(True)  # 격자 추가\n",
    "\n",
    "# 그래프 출력\n",
    "plt.show()"
   ]
  },
  {
   "cell_type": "code",
   "execution_count": 11,
   "id": "4991e320",
   "metadata": {},
   "outputs": [],
   "source": [
    "# 5. 결과 해석\n",
    "\n",
    "# 1. 주어진 데이터를 활용하여 월별 평균 종가를 계산하였음.\n",
    "# 2. 시각화를 통해 시간에 따른 평균 종가 변화를 파악할 수 있음.\n",
    "# 3. 특정 월에 급격한 상승 또는 하락이 있다면, 외부 요인(예: 경제 이벤트, 시장 변동성 등)을 고려해야 함.\n",
    "# 4. 평균 종가 변동이 일정하다면, 해당 주식은 안정적인 패턴을 보이는 것으로 해석 가능.\n"
   ]
  }
 ],
 "metadata": {
  "kernelspec": {
   "display_name": "Python 3",
   "language": "python",
   "name": "python3"
  },
  "language_info": {
   "codemirror_mode": {
    "name": "ipython",
    "version": 3
   },
   "file_extension": ".py",
   "mimetype": "text/x-python",
   "name": "python",
   "nbconvert_exporter": "python",
   "pygments_lexer": "ipython3",
   "version": "3.9.13"
  }
 },
 "nbformat": 4,
 "nbformat_minor": 5
}
