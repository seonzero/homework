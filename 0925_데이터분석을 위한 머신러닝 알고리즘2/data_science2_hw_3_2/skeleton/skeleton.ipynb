{
 "cells": [
  {
   "cell_type": "code",
   "execution_count": null,
   "id": "66e3a73c",
   "metadata": {},
   "outputs": [],
   "source": [
    "from sklearn.svm import SVC\n",
    "from sklearn.model_selection import train_test_split\n",
    "from sklearn.metrics import accuracy_score, classification_report, classification_report\n",
    "import pandas as pd"
   ]
  },
  {
   "cell_type": "code",
   "execution_count": null,
   "id": "c7dd6f81",
   "metadata": {},
   "outputs": [],
   "source": [
    "# 1. 데이터 로드\n",
    "# pandas의 read_excel을 사용하여 엑셀 파일에서 데이터를 불러옵니다.\n",
    "# 참고: https://pandas.pydata.org/pandas-docs/stable/reference/api/pandas.read_excel.html\n",
    "weekdays_data = ____________________________\n"
   ]
  },
  {
   "cell_type": "code",
   "execution_count": null,
   "id": "23a7471d",
   "metadata": {},
   "outputs": [],
   "source": [
    "# 2. 독립 변수와 종속 변수 설정\n",
    "# '8시', '9시', '10시' 열을 독립 변수로 선택하여 교통량 변수를 구성합니다.\n",
    "# '혼잡' 열을 종속 변수로 사용하며, 이 값이 True이면 1, False이면 0으로 변환합니다.\n",
    "# astype(int)를 사용하여 True/False를 1/0으로 변환합니다.\n",
    "# 참고: https://pandas.pydata.org/docs/reference/api/pandas.DataFrame.html\n",
    "X = ____________________________\n",
    "y = ____________________________\n"
   ]
  },
  {
   "cell_type": "code",
   "execution_count": null,
   "id": "13cbd94c",
   "metadata": {},
   "outputs": [],
   "source": [
    "# 3. 데이터 분리\n",
    "# train_test_split을 사용해 데이터를 학습 데이터와 테스트 데이터로 분리합니다.\n",
    "# 테스트 데이터 비율은 20%로 설정합니다.\n",
    "# 참고: https://scikit-learn.org/stable/modules/generated/sklearn.model_selection.train_test_split.html\n",
    "X_train, X_test, y_train, y_test = ____________________________"
   ]
  },
  {
   "cell_type": "code",
   "execution_count": null,
   "id": "4f358f99",
   "metadata": {},
   "outputs": [],
   "source": [
    "# 4. SVM 모델 생성 및 학습 (훈련 데이터로 학습)\n",
    "# SVM 모델을 생성하여 학습합니다. 여기서는 선형 커널을 사용합니다.\n",
    "# 참고: Scikit-learn - SVC: https://scikit-learn.org/stable/modules/generated/sklearn.svm.SVC.html\n",
    "model = ____________________________\n",
    "model.fit(____________________________)"
   ]
  },
  {
   "cell_type": "code",
   "execution_count": null,
   "id": "78e31193",
   "metadata": {},
   "outputs": [],
   "source": [
    "# 5. 예측 수행\n",
    "# 학습된 모델을 사용해 테스트 데이터에 대한 혼잡 여부를 예측합니다.\n",
    "# 참고: https://scikit-learn.org/stable/modules/generated/sklearn.tree.DecisionTreeClassifier.html#sklearn.tree.DecisionTreeClassifier.predict\n",
    "y_pred = model.predict(____________________________)"
   ]
  },
  {
   "cell_type": "code",
   "execution_count": null,
   "id": "a08ae0f6",
   "metadata": {},
   "outputs": [],
   "source": [
    "# 6. 성능 평가\n",
    "# classification_report를 사용해 모델의 정확도 및 성능을 평가합니다.\n",
    "# 참고: https://scikit-learn.org/stable/modules/generated/sklearn.metrics.classification_report.html\n",
    "accuracy = accuracy_score(____________________________)\n",
    "report = classification_report(____________________________)"
   ]
  },
  {
   "cell_type": "code",
   "execution_count": null,
   "id": "e201b9f8",
   "metadata": {},
   "outputs": [],
   "source": [
    "# 6-1. 혼동행렬 파악\n",
    "cm = confusion_matrix(____________________________)"
   ]
  },
  {
   "cell_type": "code",
   "execution_count": null,
   "id": "e7edfc3e",
   "metadata": {},
   "outputs": [],
   "source": [
    "# 7. 결과 출력\n",
    "print(f\"혼동 행렬: {cm}\")\n",
    "print(\"분류 리포트:\\n\", report)"
   ]
  },
  {
   "cell_type": "code",
   "execution_count": null,
   "id": "80b3bf82",
   "metadata": {},
   "outputs": [],
   "source": [
    "# 혼동 행렬(Confusion Matrix):\n",
    "# - TP (True Positive): 실제로 True인 데이터 중에서 모델이 True라고 예측한 것\n",
    "# - TN (True Negative): 실제로 False인 데이터 중에서 모델이 False라고 예측한 것\n",
    "# - FP (False Positive): 실제로 False인 데이터 중에서 모델이 True라고 잘못 예측한 것 (False Positive)\n",
    "# - FN (False Negative): 실제로 True인 데이터 중에서 모델이 False라고 잘못 예측한 것 (False Negative)\n",
    "# - 행: 실제 값 (True Labels)\n",
    "# - 열: 예측 값 (Predicted Labels)\n",
    "# True Positive: 실제 혼잡(1), 예측 혼잡(1)\n",
    "\n",
    "# 혼동 행렬 항목 해석\n",
    "# TN = cm[0, 0]  # True Negative: 실제 비혼잡(0), 예측 비혼잡(0)\n",
    "# FP = cm[0, 1]  # False Positive: 실제 비혼잡(0), 예측 혼잡(1)\n",
    "# FN = cm[1, 0]  # False Negative: 실제 혼잡(1), 예측 비혼잡(0)\n",
    "# TP = cm[1, 1]  # True Positive: 실제 혼잡(1), 예측 혼잡(1)\n",
    "\n",
    "# 분류 성능 평가 지표 출력 (정확도, 정밀도, 재현율, F1 점수 등)\n",
    "# 참고: https://scikit-learn.org/stable/modules/generated/sklearn.metrics.classification_report.html\n",
    "# 분류 성능 평가(Classification Report):\n",
    "# - Precision (정밀도): 모델이 True라고 예측한 것 중 실제로 True인 데이터의 비율 (TP / (TP + FP))\n",
    "#   => False Positive를 줄이는 데 중점을 둔 지표\n",
    "# - Recall (재현율): 실제로 True인 것 중에서 모델이 True라고 올바르게 예측한 비율 (TP / (TP + FN))\n",
    "#   => False Negative를 줄이는 데 중점을 둔 지표\n",
    "# - F1 Score: 정밀도와 재현율의 조화 평균 (2 * (Precision * Recall) / (Precision + Recall))\n",
    "#   => Precision과 Recall 간의 균형을 중요시할 때 사용\n",
    "# - Support: 각 클래스에 속하는 실제 데이터의 수"
   ]
  }
 ],
 "metadata": {
  "kernelspec": {
   "display_name": "ds",
   "language": "python",
   "name": "python3"
  },
  "language_info": {
   "codemirror_mode": {
    "name": "ipython",
    "version": 3
   },
   "file_extension": ".py",
   "mimetype": "text/x-python",
   "name": "python",
   "nbconvert_exporter": "python",
   "pygments_lexer": "ipython3",
   "version": "3.9.13"
  }
 },
 "nbformat": 4,
 "nbformat_minor": 5
}
